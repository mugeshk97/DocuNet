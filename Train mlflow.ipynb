{
 "cells": [
  {
   "cell_type": "code",
   "execution_count": 1,
   "id": "9124df59",
   "metadata": {},
   "outputs": [],
   "source": [
    "import tensorflow as tf\n",
    "gpu = tf.config.experimental.list_physical_devices('GPU')[0]\n",
    "if len(gpu) > 0:\n",
    "    tf.config.experimental.set_memory_growth(gpu, True)\n",
    "from src.model.data_loader import DataLoader\n",
    "import json\n",
    "import os"
   ]
  },
  {
   "cell_type": "code",
   "execution_count": 2,
   "id": "1a2aaaf0",
   "metadata": {},
   "outputs": [],
   "source": [
    "import mlflow\n",
    "import mlflow.tensorflow\n",
    "from mlflow.tracking import MlflowClient"
   ]
  },
  {
   "cell_type": "code",
   "execution_count": 3,
   "id": "b1a3d5f3",
   "metadata": {},
   "outputs": [
    {
     "name": "stdout",
     "output_type": "stream",
     "text": [
      "Loaded 696 files of 4 classes\n"
     ]
    }
   ],
   "source": [
    "BATCH_SIZE = 16\n",
    "\n",
    "data_loader = DataLoader(shape=(640,640), batch_size = BATCH_SIZE) \n",
    "data_loader.load_from_directory(\"/home/mugesh/IB/DocuNet/data/processed_data/\")\n",
    "data_gen = data_loader.data_generator(shape=(640,640), batch_size= BATCH_SIZE)"
   ]
  },
  {
   "cell_type": "code",
   "execution_count": 4,
   "id": "cbacbd21",
   "metadata": {},
   "outputs": [
    {
     "name": "stdout",
     "output_type": "stream",
     "text": [
      "Model: \"DockNet\"\n",
      "__________________________________________________________________________________________________\n",
      "Layer (type)                    Output Shape         Param #     Connected to                     \n",
      "==================================================================================================\n",
      "input (InputLayer)              [(None, 640, 640, 1) 0                                            \n",
      "__________________________________________________________________________________________________\n",
      "conv_1 (Conv2D)                 (None, 640, 640, 32) 320         input[0][0]                      \n",
      "__________________________________________________________________________________________________\n",
      "act_1 (Activation)              (None, 640, 640, 32) 0           conv_1[0][0]                     \n",
      "__________________________________________________________________________________________________\n",
      "pool_1 (MaxPooling2D)           (None, 320, 320, 32) 0           act_1[0][0]                      \n",
      "__________________________________________________________________________________________________\n",
      "conv_2 (Conv2D)                 (None, 320, 320, 32) 9248        pool_1[0][0]                     \n",
      "__________________________________________________________________________________________________\n",
      "act_2 (Activation)              (None, 320, 320, 32) 0           conv_2[0][0]                     \n",
      "__________________________________________________________________________________________________\n",
      "pool_2 (MaxPooling2D)           (None, 160, 160, 32) 0           act_2[0][0]                      \n",
      "__________________________________________________________________________________________________\n",
      "conv_3 (Conv2D)                 (None, 160, 160, 16) 4624        pool_2[0][0]                     \n",
      "__________________________________________________________________________________________________\n",
      "act_3 (Activation)              (None, 160, 160, 16) 0           conv_3[0][0]                     \n",
      "__________________________________________________________________________________________________\n",
      "pool_3 (MaxPooling2D)           (None, 80, 80, 16)   0           act_3[0][0]                      \n",
      "__________________________________________________________________________________________________\n",
      "conv_4 (Conv2D)                 (None, 80, 80, 16)   2320        pool_3[0][0]                     \n",
      "__________________________________________________________________________________________________\n",
      "act_4 (Activation)              (None, 80, 80, 16)   0           conv_4[0][0]                     \n",
      "__________________________________________________________________________________________________\n",
      "pool_4 (MaxPooling2D)           (None, 40, 40, 16)   0           act_4[0][0]                      \n",
      "__________________________________________________________________________________________________\n",
      "pool_5 (MaxPooling2D)           (None, 20, 20, 16)   0           pool_4[0][0]                     \n",
      "__________________________________________________________________________________________________\n",
      "flatten (Flatten)               (None, 6400)         0           pool_5[0][0]                     \n",
      "__________________________________________________________________________________________________\n",
      "dense_1 (Dense)                 (None, 64)           409664      flatten[0][0]                    \n",
      "__________________________________________________________________________________________________\n",
      "dense_2 (Dense)                 (None, 32)           2080        dense_1[0][0]                    \n",
      "__________________________________________________________________________________________________\n",
      "black_border (Dense)            (None, 1)            33          dense_2[0][0]                    \n",
      "__________________________________________________________________________________________________\n",
      "good (Dense)                    (None, 1)            33          dense_2[0][0]                    \n",
      "__________________________________________________________________________________________________\n",
      "gridline (Dense)                (None, 1)            33          dense_2[0][0]                    \n",
      "__________________________________________________________________________________________________\n",
      "shaded (Dense)                  (None, 1)            33          dense_2[0][0]                    \n",
      "==================================================================================================\n",
      "Total params: 428,388\n",
      "Trainable params: 428,388\n",
      "Non-trainable params: 0\n",
      "__________________________________________________________________________________________________\n"
     ]
    }
   ],
   "source": [
    "## Model Architecture\n",
    "input_ = tf.keras.layers.Input(shape=(640,640,1), name =\"input\")\n",
    "\n",
    "conv_1 = tf.keras.layers.Conv2D(filters = 32, kernel_size = (3,3), padding = \"same\", name=\"conv_1\")(input_)\n",
    "act_1 = tf.keras.layers.Activation('relu', name='act_1')(conv_1)\n",
    "pool_1 = tf.keras.layers.MaxPool2D(pool_size = (2,2), name = \"pool_1\")(act_1)\n",
    "\n",
    "conv_2 = tf.keras.layers.Conv2D(filters = 32, kernel_size = (3,3), padding = \"same\" , name=\"conv_2\")(pool_1)\n",
    "act_2 = tf.keras.layers.Activation('relu', name='act_2')(conv_2)\n",
    "pool_2 = tf.keras.layers.MaxPool2D(pool_size = (2,2), name = \"pool_2\")(act_2)\n",
    "\n",
    "conv_3 = tf.keras.layers.Conv2D(filters = 16, kernel_size = (3,3), padding = \"same\",  name=\"conv_3\")(pool_2)\n",
    "act_3 = tf.keras.layers.Activation('relu', name='act_3')(conv_3)\n",
    "pool_3 = tf.keras.layers.MaxPool2D(pool_size = (2,2), name = \"pool_3\")(act_3)\n",
    "\n",
    "conv_4 = tf.keras.layers.Conv2D(filters = 16, kernel_size = (3,3), padding = \"same\", name=\"conv_4\")(pool_3)\n",
    "act_4 = tf.keras.layers.Activation('relu', name='act_4')(conv_4)\n",
    "pool_4 = tf.keras.layers.MaxPool2D(pool_size = (2,2), name = \"pool_4\")(act_4)\n",
    "pool_5 = tf.keras.layers.MaxPool2D(pool_size = (2,2), name = \"pool_5\")(pool_4)\n",
    "\n",
    "flatten = tf.keras.layers.Flatten(name=\"flatten\")(pool_5)\n",
    "\n",
    "\n",
    "dense_1 = tf.keras.layers.Dense(64, activation='relu', name = \"dense_1\")(flatten)\n",
    "dense_2 = tf.keras.layers.Dense(32, activation='relu', name = \"dense_2\")(dense_1)\n",
    "\n",
    "shaded = tf.keras.layers.Dense(1,activation='sigmoid', name=\"shaded\")(dense_2)\n",
    "gridline = tf.keras.layers.Dense(1,activation='sigmoid', name=\"gridline\")(dense_2)\n",
    "good = tf.keras.layers.Dense(1,activation='sigmoid', name=\"good\")(dense_2)\n",
    "black_border = tf.keras.layers.Dense(1,activation='sigmoid', name=\"black_border\")(dense_2)\n",
    "\n",
    "model_outputs = {'black_border' : black_border, 'good' : good, 'gridline' : gridline, 'shaded' : shaded}\n",
    "\n",
    "\n",
    "model = tf.keras.models.Model(input_, model_outputs, name =\"DockNet\")\n",
    "model.summary()\n",
    "\n",
    "## Compile \n",
    "model.compile(\n",
    "    loss={\n",
    "        \"shaded\": 'binary_crossentropy',\n",
    "        \"gridline\": \"binary_crossentropy\",\n",
    "        \"good\": \"binary_crossentropy\",\n",
    "        \"black_border\": \"binary_crossentropy\"\n",
    "    },\n",
    "    optimizer='adam',\n",
    "    metrics=['accuracy']\n",
    ")"
   ]
  },
  {
   "cell_type": "code",
   "execution_count": 5,
   "id": "7a383e3b",
   "metadata": {},
   "outputs": [],
   "source": [
    "experiment_name = \"DockNet\""
   ]
  },
  {
   "cell_type": "code",
   "execution_count": 6,
   "id": "60ecc0cb",
   "metadata": {},
   "outputs": [
    {
     "name": "stdout",
     "output_type": "stream",
     "text": [
      "Epoch 1/5\n",
      " 6/43 [===>..........................] - ETA: 9s - loss: 2.6203 - black_border_loss: 0.6814 - good_loss: 0.6231 - gridline_loss: 0.6042 - shaded_loss: 0.7116 - black_border_accuracy: 0.5356 - good_accuracy: 0.6887 - gridline_accuracy: 0.6601 - shaded_accuracy: 0.5207WARNING:tensorflow:Callback method `on_train_batch_end` is slow compared to the batch time (batch time: 0.0804s vs `on_train_batch_end` time: 0.1383s). Check your callbacks.\n",
      "43/43 [==============================] - 15s 248ms/step - loss: 1.4835 - black_border_loss: 0.4462 - good_loss: 0.3296 - gridline_loss: 0.2877 - shaded_loss: 0.4201 - black_border_accuracy: 0.7693 - good_accuracy: 0.8470 - gridline_accuracy: 0.8532 - shaded_accuracy: 0.7854\n",
      "Epoch 2/5\n",
      "43/43 [==============================] - 11s 246ms/step - loss: 0.1488 - black_border_loss: 0.0159 - good_loss: 0.0032 - gridline_loss: 0.0665 - shaded_loss: 0.0631 - black_border_accuracy: 0.9935 - good_accuracy: 0.9995 - gridline_accuracy: 0.9874 - shaded_accuracy: 0.9913\n",
      "Epoch 3/5\n",
      "43/43 [==============================] - 10s 245ms/step - loss: 0.0286 - black_border_loss: 0.0037 - good_loss: 0.0062 - gridline_loss: 0.0128 - shaded_loss: 0.0058 - black_border_accuracy: 1.0000 - good_accuracy: 1.0000 - gridline_accuracy: 0.9954 - shaded_accuracy: 0.9975\n",
      "Epoch 4/5\n",
      "43/43 [==============================] - 11s 246ms/step - loss: 8.9946e-04 - black_border_loss: 2.8708e-04 - good_loss: 2.0886e-04 - gridline_loss: 1.9538e-05 - shaded_loss: 3.8398e-04 - black_border_accuracy: 1.0000 - good_accuracy: 1.0000 - gridline_accuracy: 1.0000 - shaded_accuracy: 1.0000\n",
      "Epoch 5/5\n",
      "43/43 [==============================] - 11s 246ms/step - loss: 3.4434e-04 - black_border_loss: 1.3965e-04 - good_loss: 7.6475e-05 - gridline_loss: 5.7109e-06 - shaded_loss: 1.2250e-04 - black_border_accuracy: 1.0000 - good_accuracy: 1.0000 - gridline_accuracy: 1.0000 - shaded_accuracy: 1.0000\n",
      "INFO:tensorflow:Assets written to: /tmp/tmp9bmrv5qv/model/data/model/assets\n"
     ]
    },
    {
     "name": "stderr",
     "output_type": "stream",
     "text": [
      "2022/03/07 12:37:19 WARNING mlflow.utils.environment: Encountered an unexpected error while inferring pip requirements (model URI: /tmp/tmp9bmrv5qv/model, flavor: keras), fall back to return ['tensorflow==2.4.2']. Set logging level to DEBUG to see the full traceback.\n"
     ]
    }
   ],
   "source": [
    "mlflow.tensorflow.autolog()\n",
    "with mlflow.start_run(run_name=experiment_name):\n",
    "    history = model.fit(\n",
    "        data_gen,\n",
    "        steps_per_epoch= data_loader.num_files // BATCH_SIZE,\n",
    "        batch_size = BATCH_SIZE,\n",
    "        epochs=5)"
   ]
  }
 ],
 "metadata": {
  "interpreter": {
   "hash": "497527df925e3e58bbbb33060083048cb69f2f4e35ce25c5100d412e1b31a1bf"
  },
  "kernelspec": {
   "display_name": "Python 3",
   "language": "python",
   "name": "python3"
  },
  "language_info": {
   "codemirror_mode": {
    "name": "ipython",
    "version": 3
   },
   "file_extension": ".py",
   "mimetype": "text/x-python",
   "name": "python",
   "nbconvert_exporter": "python",
   "pygments_lexer": "ipython3",
   "version": "3.8.8"
  }
 },
 "nbformat": 4,
 "nbformat_minor": 5
}
