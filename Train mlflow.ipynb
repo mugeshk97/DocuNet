{
 "cells": [
  {
   "cell_type": "code",
   "execution_count": 1,
   "id": "9124df59",
   "metadata": {},
   "outputs": [],
   "source": [
    "import tensorflow as tf\n",
    "gpu = tf.config.experimental.list_physical_devices('GPU')[0]\n",
    "if len(gpu) > 0:\n",
    "    tf.config.experimental.set_memory_growth(gpu, True)\n",
    "from utils import DataLoader\n",
    "import json\n",
    "import os"
   ]
  },
  {
   "cell_type": "code",
   "execution_count": 2,
   "id": "1a2aaaf0",
   "metadata": {},
   "outputs": [],
   "source": [
    "import mlflow\n",
    "import mlflow.tensorflow\n",
    "from mlflow.tracking import MlflowClient"
   ]
  },
  {
   "cell_type": "code",
   "execution_count": 3,
   "id": "b1a3d5f3",
   "metadata": {},
   "outputs": [
    {
     "name": "stdout",
     "output_type": "stream",
     "text": [
      "Loaded 713 files of 4 classes\n"
     ]
    }
   ],
   "source": [
    "BATCH_SIZE = 32\n",
    "\n",
    "data_loader = DataLoader(shape=(360,360), batch_size = BATCH_SIZE) \n",
    "data_loader.load_from_directory(\"/home/mugesh/IB/cls/processed_data\")\n",
    "data_gen = data_loader.data_generator()"
   ]
  },
  {
   "cell_type": "code",
   "execution_count": 4,
   "id": "cbacbd21",
   "metadata": {},
   "outputs": [
    {
     "name": "stdout",
     "output_type": "stream",
     "text": [
      "Model: \"DockNet\"\n",
      "__________________________________________________________________________________________________\n",
      "Layer (type)                    Output Shape         Param #     Connected to                     \n",
      "==================================================================================================\n",
      "input (InputLayer)              [(None, 360, 360, 1) 0                                            \n",
      "__________________________________________________________________________________________________\n",
      "conv_1 (Conv2D)                 (None, 360, 360, 64) 640         input[0][0]                      \n",
      "__________________________________________________________________________________________________\n",
      "act_1 (Activation)              (None, 360, 360, 64) 0           conv_1[0][0]                     \n",
      "__________________________________________________________________________________________________\n",
      "pool_1 (MaxPooling2D)           (None, 180, 180, 64) 0           act_1[0][0]                      \n",
      "__________________________________________________________________________________________________\n",
      "conv_2 (Conv2D)                 (None, 180, 180, 64) 36928       pool_1[0][0]                     \n",
      "__________________________________________________________________________________________________\n",
      "act_2 (Activation)              (None, 180, 180, 64) 0           conv_2[0][0]                     \n",
      "__________________________________________________________________________________________________\n",
      "pool_2 (MaxPooling2D)           (None, 90, 90, 64)   0           act_2[0][0]                      \n",
      "__________________________________________________________________________________________________\n",
      "conv_3 (Conv2D)                 (None, 90, 90, 32)   18464       pool_2[0][0]                     \n",
      "__________________________________________________________________________________________________\n",
      "act_3 (Activation)              (None, 90, 90, 32)   0           conv_3[0][0]                     \n",
      "__________________________________________________________________________________________________\n",
      "pool_3 (MaxPooling2D)           (None, 45, 45, 32)   0           act_3[0][0]                      \n",
      "__________________________________________________________________________________________________\n",
      "conv_4 (Conv2D)                 (None, 45, 45, 16)   4624        pool_3[0][0]                     \n",
      "__________________________________________________________________________________________________\n",
      "act_4 (Activation)              (None, 45, 45, 16)   0           conv_4[0][0]                     \n",
      "__________________________________________________________________________________________________\n",
      "pool_4 (MaxPooling2D)           (None, 22, 22, 16)   0           act_4[0][0]                      \n",
      "__________________________________________________________________________________________________\n",
      "pool_5 (MaxPooling2D)           (None, 11, 11, 16)   0           pool_4[0][0]                     \n",
      "__________________________________________________________________________________________________\n",
      "flatten (Flatten)               (None, 1936)         0           pool_5[0][0]                     \n",
      "__________________________________________________________________________________________________\n",
      "dense_1 (Dense)                 (None, 64)           123968      flatten[0][0]                    \n",
      "__________________________________________________________________________________________________\n",
      "dense_2 (Dense)                 (None, 32)           2080        dense_1[0][0]                    \n",
      "__________________________________________________________________________________________________\n",
      "black_border (Dense)            (None, 1)            33          dense_2[0][0]                    \n",
      "__________________________________________________________________________________________________\n",
      "good (Dense)                    (None, 1)            33          dense_2[0][0]                    \n",
      "__________________________________________________________________________________________________\n",
      "gridline (Dense)                (None, 1)            33          dense_2[0][0]                    \n",
      "__________________________________________________________________________________________________\n",
      "shaded (Dense)                  (None, 1)            33          dense_2[0][0]                    \n",
      "==================================================================================================\n",
      "Total params: 186,836\n",
      "Trainable params: 186,836\n",
      "Non-trainable params: 0\n",
      "__________________________________________________________________________________________________\n"
     ]
    }
   ],
   "source": [
    "## Model Architecture\n",
    "input_ = tf.keras.layers.Input(shape=(360,360,1), name =\"input\")\n",
    "\n",
    "conv_1 = tf.keras.layers.Conv2D(filters = 64, kernel_size = (3,3), padding = \"same\", name=\"conv_1\")(input_)\n",
    "act_1 = tf.keras.layers.Activation('relu', name='act_1')(conv_1)\n",
    "pool_1 = tf.keras.layers.MaxPool2D(pool_size = (2,2), name = \"pool_1\")(act_1)\n",
    "\n",
    "conv_2 = tf.keras.layers.Conv2D(filters = 64, kernel_size = (3,3), padding = \"same\" , name=\"conv_2\")(pool_1)\n",
    "act_2 = tf.keras.layers.Activation('relu', name='act_2')(conv_2)\n",
    "pool_2 = tf.keras.layers.MaxPool2D(pool_size = (2,2), name = \"pool_2\")(act_2)\n",
    "\n",
    "conv_3 = tf.keras.layers.Conv2D(filters = 32, kernel_size = (3,3), padding = \"same\",  name=\"conv_3\")(pool_2)\n",
    "act_3 = tf.keras.layers.Activation('relu', name='act_3')(conv_3)\n",
    "pool_3 = tf.keras.layers.MaxPool2D(pool_size = (2,2), name = \"pool_3\")(act_3)\n",
    "\n",
    "conv_4 = tf.keras.layers.Conv2D(filters = 16, kernel_size = (3,3), padding = \"same\", name=\"conv_4\")(pool_3)\n",
    "act_4 = tf.keras.layers.Activation('relu', name='act_4')(conv_4)\n",
    "pool_4 = tf.keras.layers.MaxPool2D(pool_size = (2,2), name = \"pool_4\")(act_4)\n",
    "pool_5 = tf.keras.layers.MaxPool2D(pool_size = (2,2), name = \"pool_5\")(pool_4)\n",
    "\n",
    "flatten = tf.keras.layers.Flatten(name=\"flatten\")(pool_5)\n",
    "\n",
    "\n",
    "dense_1 = tf.keras.layers.Dense(64, activation='relu', name = \"dense_1\")(flatten)\n",
    "dense_2 = tf.keras.layers.Dense(32, activation='relu', name = \"dense_2\")(dense_1)\n",
    "\n",
    "shaded = tf.keras.layers.Dense(1,activation='sigmoid', name=\"shaded\")(dense_2)\n",
    "gridline = tf.keras.layers.Dense(1,activation='sigmoid', name=\"gridline\")(dense_2)\n",
    "good = tf.keras.layers.Dense(1,activation='sigmoid', name=\"good\")(dense_2)\n",
    "black_border = tf.keras.layers.Dense(1,activation='sigmoid', name=\"black_border\")(dense_2)\n",
    "\n",
    "model_outputs = {'black_border' : black_border, 'good' : good, 'gridline' : gridline, 'shaded' : shaded}\n",
    "\n",
    "\n",
    "model = tf.keras.models.Model(input_, model_outputs, name =\"DockNet\")\n",
    "model.summary()\n",
    "\n",
    "## Compile \n",
    "model.compile(\n",
    "    loss={\n",
    "        \"shaded\": 'binary_crossentropy',\n",
    "        \"gridline\": \"binary_crossentropy\",\n",
    "        \"good\": \"binary_crossentropy\",\n",
    "        \"black_border\": \"binary_crossentropy\"\n",
    "    },\n",
    "    optimizer='adam',\n",
    "    metrics=['accuracy']\n",
    ")"
   ]
  },
  {
   "cell_type": "code",
   "execution_count": 5,
   "id": "7a383e3b",
   "metadata": {},
   "outputs": [
    {
     "name": "stdout",
     "output_type": "stream",
     "text": [
      "Experiment ID:  1\n"
     ]
    }
   ],
   "source": [
    "experiment_name = \"DockNet\"\n",
    "# Initialize client\n",
    "mlflow.set_tracking_uri('http://127.0.0.1:5000/')\n",
    "client = MlflowClient()\n",
    "# If experiment doesn't exist then it will create new\n",
    "# else it will take the experiment id and will use to to run the experiments\n",
    "try:\n",
    "    # Create experiment \n",
    "    experiment_id = client.create_experiment(experiment_name)\n",
    "except:\n",
    "    # Get the experiment id if it already exists\n",
    "    experiment_id = client.get_experiment_by_name(experiment_name).experiment_id\n",
    "print(\"Experiment ID: \", experiment_id)"
   ]
  },
  {
   "cell_type": "code",
   "execution_count": 6,
   "id": "60ecc0cb",
   "metadata": {},
   "outputs": [
    {
     "name": "stdout",
     "output_type": "stream",
     "text": [
      "Epoch 1/10\n",
      " 5/22 [=====>........................] - ETA: 0s - loss: 2.6974 - black_border_loss: 0.7373 - good_loss: 0.7020 - gridline_loss: 0.5824 - shaded_loss: 0.6757 - black_border_accuracy: 0.5875 - good_accuracy: 0.2625 - gridline_accuracy: 1.0000 - shaded_accuracy: 0.8292    WARNING:tensorflow:Callback method `on_train_batch_end` is slow compared to the batch time (batch time: 0.0167s vs `on_train_batch_end` time: 0.0287s). Check your callbacks.\n",
      "22/22 [==============================] - 5s 43ms/step - loss: 2.4321 - black_border_loss: 0.6862 - good_loss: 0.6487 - gridline_loss: 0.4632 - shaded_loss: 0.6339 - black_border_accuracy: 0.5866 - good_accuracy: 0.5578 - gridline_accuracy: 0.9363 - shaded_accuracy: 0.7548\n",
      "Epoch 2/10\n",
      "22/22 [==============================] - 1s 39ms/step - loss: 1.9546 - black_border_loss: 0.5368 - good_loss: 0.4687 - gridline_loss: 0.4740 - shaded_loss: 0.4751 - black_border_accuracy: 0.7178 - good_accuracy: 0.7830 - gridline_accuracy: 0.7727 - shaded_accuracy: 0.7965\n",
      "Epoch 3/10\n",
      "22/22 [==============================] - 1s 40ms/step - loss: 0.6687 - black_border_loss: 0.1940 - good_loss: 0.1097 - gridline_loss: 0.2356 - shaded_loss: 0.1294 - black_border_accuracy: 0.9061 - good_accuracy: 0.9594 - gridline_accuracy: 0.8803 - shaded_accuracy: 0.9932\n",
      "Epoch 4/10\n",
      "22/22 [==============================] - 1s 39ms/step - loss: 0.3486 - black_border_loss: 0.2221 - good_loss: 0.0532 - gridline_loss: 0.0635 - shaded_loss: 0.0098 - black_border_accuracy: 0.9757 - good_accuracy: 0.9782 - gridline_accuracy: 0.9761 - shaded_accuracy: 1.0000\n",
      "Epoch 5/10\n",
      "22/22 [==============================] - 1s 39ms/step - loss: 0.0491 - black_border_loss: 0.0107 - good_loss: 0.0092 - gridline_loss: 0.0227 - shaded_loss: 0.0064 - black_border_accuracy: 1.0000 - good_accuracy: 1.0000 - gridline_accuracy: 0.9940 - shaded_accuracy: 1.0000\n",
      "Epoch 6/10\n",
      "22/22 [==============================] - 1s 40ms/step - loss: 0.0139 - black_border_loss: 0.0037 - good_loss: 0.0076 - gridline_loss: 0.0015 - shaded_loss: 0.0010 - black_border_accuracy: 1.0000 - good_accuracy: 1.0000 - gridline_accuracy: 1.0000 - shaded_accuracy: 1.0000     \n",
      "Epoch 7/10\n",
      "22/22 [==============================] - 1s 40ms/step - loss: 0.1328 - black_border_loss: 0.0054 - good_loss: 6.7921e-04 - gridline_loss: 0.0374 - shaded_loss: 0.0894 - black_border_accuracy: 1.0000 - good_accuracy: 1.0000 - gridline_accuracy: 0.9961 - shaded_accuracy: 0.9901\n",
      "Epoch 8/10\n",
      "22/22 [==============================] - 1s 40ms/step - loss: 0.0444 - black_border_loss: 0.0020 - good_loss: 0.0175 - gridline_loss: 0.0053 - shaded_loss: 0.0196 - black_border_accuracy: 1.0000 - good_accuracy: 1.0000 - gridline_accuracy: 0.9980 - shaded_accuracy: 1.0000\n",
      "Epoch 9/10\n",
      "22/22 [==============================] - 1s 39ms/step - loss: 0.0731 - black_border_loss: 0.0038 - good_loss: 9.2870e-04 - gridline_loss: 0.0655 - shaded_loss: 0.0029 - black_border_accuracy: 1.0000 - good_accuracy: 1.0000 - gridline_accuracy: 0.9405 - shaded_accuracy: 1.0000\n",
      "Epoch 10/10\n",
      "22/22 [==============================] - 1s 40ms/step - loss: 0.0246 - black_border_loss: 4.5532e-04 - good_loss: 0.0013 - gridline_loss: 0.0217 - shaded_loss: 0.0011 - black_border_accuracy: 1.0000 - good_accuracy: 1.0000 - gridline_accuracy: 0.9922 - shaded_accuracy: 1.0000\n",
      "INFO:tensorflow:Assets written to: /tmp/tmp2q496md3/model/data/model/assets\n"
     ]
    },
    {
     "name": "stderr",
     "output_type": "stream",
     "text": [
      "2022/03/04 09:05:29 WARNING mlflow.utils.environment: Encountered an unexpected error while inferring pip requirements (model URI: /tmp/tmp2q496md3/model, flavor: keras), fall back to return ['tensorflow==2.4.2']. Set logging level to DEBUG to see the full traceback.\n"
     ]
    }
   ],
   "source": [
    "mlflow.tensorflow.autolog()\n",
    "with mlflow.start_run(experiment_id=experiment_id, run_name=experiment_name):\n",
    "    history = model.fit(\n",
    "        data_gen,\n",
    "        steps_per_epoch= data_loader.num_files // BATCH_SIZE,\n",
    "        batch_size = BATCH_SIZE,\n",
    "        epochs=10)"
   ]
  }
 ],
 "metadata": {
  "interpreter": {
   "hash": "497527df925e3e58bbbb33060083048cb69f2f4e35ce25c5100d412e1b31a1bf"
  },
  "kernelspec": {
   "display_name": "Python 3",
   "language": "python",
   "name": "python3"
  },
  "language_info": {
   "codemirror_mode": {
    "name": "ipython",
    "version": 3
   },
   "file_extension": ".py",
   "mimetype": "text/x-python",
   "name": "python",
   "nbconvert_exporter": "python",
   "pygments_lexer": "ipython3",
   "version": "3.8.8"
  }
 },
 "nbformat": 4,
 "nbformat_minor": 5
}
