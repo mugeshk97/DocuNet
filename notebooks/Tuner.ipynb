{
 "cells": [
  {
   "cell_type": "code",
   "execution_count": 1,
   "metadata": {},
   "outputs": [],
   "source": [
    "import tensorflow as tf\n",
    "gpu = tf.config.experimental.list_physical_devices('GPU')[0]\n",
    "tf.config.experimental.set_memory_growth(gpu, True)\n",
    "import keras_tuner as kt"
   ]
  },
  {
   "cell_type": "code",
   "execution_count": 2,
   "metadata": {},
   "outputs": [],
   "source": [
    "import os\n",
    "import cv2\n",
    "import numpy as np\n",
    "import tensorflow as tf\n",
    "\n",
    "class DataLoader:\n",
    "    \"\"\"\n",
    "    The data loader class is used to load data from a directory and generate batches of data.\n",
    "    \"\"\"\n",
    "    def __init__(self, shape, batch_size, scale = True):\n",
    "        \"\"\"\n",
    "        Initializes the data loader class.\n",
    "        Args:\n",
    "            shape: shape of the image\n",
    "            batch_size: size of the batch\n",
    "            scale: whether to scale the image to the range [0, 1]\n",
    "        \"\"\"\n",
    "        self.indices = {}\n",
    "        self.__file_names__ = []\n",
    "        self.__labels__ = []\n",
    "        self.__shape__ = shape\n",
    "        self.__batch_size__ = batch_size\n",
    "        self.__scale__ = scale\n",
    "    \n",
    "    def load_from_directory(self, folder_directory):\n",
    "        \"\"\"\n",
    "        Loads data from a given directory.\n",
    "        Args:\n",
    "            folder_directory: directory of the data\n",
    "        Returns:\n",
    "            None\n",
    "        \"\"\"\n",
    "        self.num_files = 0\n",
    "        classes = os.listdir(folder_directory)\n",
    "        for i in range(len(classes)):\n",
    "            sub_dir = os.path.join(folder_directory, classes[i])\n",
    "            filename = os.listdir(sub_dir)\n",
    "            for file_ in filename:\n",
    "                file_path = os.path.join(sub_dir, file_)\n",
    "                self.__file_names__.append(file_path)\n",
    "                self.num_files += 1\n",
    "                self.__labels__.append(i)\n",
    "            self.indices[i] = classes[i]\n",
    "        print(f\"Loaded {self.num_files} files of {len(classes)} classes\")\n",
    "        return None\n",
    "\n",
    "    def data_generator(self, shape = (360,360), batch_size = 4, scale = True):\n",
    "        \"\"\"\n",
    "        generator for the data loader class.\n",
    "        Args:\n",
    "            shape: shape of the image\n",
    "            batch_size: size of the batch\n",
    "            scale: whether to scale the image to the range [0, 1]\n",
    "\n",
    "        Returns:\n",
    "            batch of images and labels\n",
    "        \"\"\"\n",
    "        self.__shape__ = shape\n",
    "        self.__batch_size__ = batch_size\n",
    "        self.__scale__ = scale\n",
    "\n",
    "        if len(self.__file_names__) == 0:\n",
    "            raise Exception(\"No data loaded\")\n",
    "        else:\n",
    "            while True:\n",
    "                batch_y_train = {}\n",
    "                batch_x = np.zeros(shape = (self.__batch_size__, self.__shape__[0], self.__shape__[1], 1))\n",
    "                batch_y = np.zeros(shape = (self.__batch_size__))\n",
    "                for i in range(self.__batch_size__):\n",
    "                    index = np.random.randint(0, len(self.__file_names__))\n",
    "                    img = cv2.imread(self.__file_names__[index])\n",
    "                    img = cv2.resize(img, self.__shape__)\n",
    "                    img = cv2.cvtColor(img, cv2.COLOR_BGR2GRAY)\n",
    "                    if self.__scale__:\n",
    "                        img = img / 255.0 \n",
    "                    img = np.expand_dims(img, axis = -1) # add a channel dimension\n",
    "                    batch_x[i] = img\n",
    "                    batch_y[i] = self.__labels__[index]\n",
    "                y = tf.one_hot(batch_y, depth = len(self.indices))\n",
    "                for i in self.indices.keys():\n",
    "                    batch_y_train[self.indices[i]] = y[:, i]\n",
    "                yield batch_x, batch_y_train"
   ]
  },
  {
   "cell_type": "code",
   "execution_count": 3,
   "metadata": {},
   "outputs": [
    {
     "name": "stdout",
     "output_type": "stream",
     "text": [
      "Loaded 696 files of 4 classes\n"
     ]
    }
   ],
   "source": [
    "BATCH_SIZE = 4\n",
    "\n",
    "data_loader = DataLoader(shape=(640,640), batch_size = BATCH_SIZE) \n",
    "data_loader.load_from_directory(\"/home/mugesh/IB/DocuNet/data/processed_data/\")\n",
    "data_gen = data_loader.data_generator(shape = (640,640), batch_size = BATCH_SIZE)"
   ]
  },
  {
   "cell_type": "code",
   "execution_count": 4,
   "metadata": {},
   "outputs": [],
   "source": [
    "import os\n",
    "import numpy as np\n",
    "import cv2"
   ]
  },
  {
   "cell_type": "code",
   "execution_count": 5,
   "metadata": {},
   "outputs": [],
   "source": [
    "def build_model(hp):\n",
    "    input_ = tf.keras.layers.Input(shape=(640,640,1), name =\"input\")\n",
    "\n",
    "    conv_1 = tf.keras.layers.Conv2D(filters = hp.Int('conv_1', min_value=32, max_value=64, step=16)\n",
    "    , kernel_size = (3,3), padding = \"same\", name=\"conv_1\")(input_)\n",
    "    act_1 = tf.keras.layers.Activation('relu', name='act_1')(conv_1)\n",
    "    pool_1 = tf.keras.layers.MaxPool2D(pool_size = (2,2), name = \"pool_1\")(act_1)\n",
    "\n",
    "    conv_2 = tf.keras.layers.Conv2D(filters = hp.Int('conv_2', min_value=32, max_value=64, step=16)\n",
    "    , kernel_size = (3,3), padding = \"same\" , name=\"conv_2\")(pool_1)\n",
    "    act_2 = tf.keras.layers.Activation('relu', name='act_2')(conv_2)\n",
    "    pool_2 = tf.keras.layers.MaxPool2D(pool_size = (2,2), name = \"pool_2\")(act_2)\n",
    "\n",
    "    conv_3 = tf.keras.layers.Conv2D(filters = hp.Int('conv_3', min_value=16, max_value=64, step=16)\n",
    "    , kernel_size = (3,3), padding = \"same\",  name=\"conv_3\")(pool_2)\n",
    "    act_3 = tf.keras.layers.Activation('relu', name='act_3')(conv_3)\n",
    "    pool_3 = tf.keras.layers.MaxPool2D(pool_size = (2,2), name = \"pool_3\")(act_3)\n",
    "\n",
    "    conv_4 = tf.keras.layers.Conv2D(filters = hp.Int('conv_4', min_value=16, max_value=64, step=16) \n",
    "    , kernel_size = (3,3), padding = \"same\", name=\"conv_4\")(pool_3)\n",
    "    act_4 = tf.keras.layers.Activation('relu', name='act_4')(conv_4)\n",
    "    pool_4 = tf.keras.layers.MaxPool2D(pool_size = (2,2), name = \"pool_4\")(act_4)\n",
    "    pool_5 = tf.keras.layers.MaxPool2D(pool_size = (2,2), name = \"pool_5\")(pool_4)\n",
    "\n",
    "    flatten = tf.keras.layers.Flatten(name=\"flatten\")(pool_5)\n",
    "\n",
    "\n",
    "    dense_1 = tf.keras.layers.Dense(units= hp.Int('dense_1', min_value=16, max_value=96, step=16), name=\"dense_1\")(flatten)\n",
    "    dense_2 = tf.keras.layers.Dense(units= hp.Int('dense_2', min_value=16, max_value=96, step=16), name=\"dense_2\")(dense_1)\n",
    "\n",
    "    shaded = tf.keras.layers.Dense(1,activation='sigmoid', name=\"shaded\")(dense_2)\n",
    "    gridline = tf.keras.layers.Dense(1,activation='sigmoid', name=\"gridline\")(dense_2)\n",
    "    good = tf.keras.layers.Dense(1,activation='sigmoid', name=\"good\")(dense_2)\n",
    "    black_border = tf.keras.layers.Dense(1,activation='sigmoid', name=\"black_border\")(dense_2)\n",
    "\n",
    "    model_outputs = [black_border, good, gridline, shaded]\n",
    "    model = tf.keras.models.Model(input_, model_outputs, name =\"model_v1\")\n",
    "\n",
    "\n",
    "    model.compile(\n",
    "    loss={\n",
    "        \"shaded\": 'binary_crossentropy',\n",
    "        \"gridline\": \"binary_crossentropy\",\n",
    "        \"good\": \"binary_crossentropy\",\n",
    "        \"black_border\": \"binary_crossentropy\"\n",
    "    },\n",
    "    optimizer=tf.keras.optimizers.Adam(hp.Choice('learning_rate', values=[1e-3, 1e-4])),\n",
    "    metrics=['accuracy']\n",
    "    )\n",
    "    return model"
   ]
  },
  {
   "cell_type": "code",
   "execution_count": null,
   "metadata": {},
   "outputs": [],
   "source": [
    "# tuner = kt.RandomSearch(build_model, objective=kt.Objective(\"loss\", direction = \"min\")\n",
    "# , max_trials= 15 , directory='keras_tuner', project_name='RandomSearch')"
   ]
  },
  {
   "cell_type": "code",
   "execution_count": null,
   "metadata": {},
   "outputs": [],
   "source": [
    "tuner = kt.BayesianOptimization(build_model, objective=kt.Objective(\"loss\", direction = \"min\"), max_trials= 15 , directory='keras_tuner', project_name='BayesianOptimization')"
   ]
  },
  {
   "cell_type": "code",
   "execution_count": null,
   "metadata": {},
   "outputs": [],
   "source": [
    "tuner.search(    data_gen,\n",
    "    steps_per_epoch= data_loader.num_files // BATCH_SIZE,\n",
    "    epochs = 3\n",
    ") "
   ]
  },
  {
   "cell_type": "code",
   "execution_count": null,
   "metadata": {},
   "outputs": [],
   "source": [
    "tuner.get_best_hyperparameters()[0].values"
   ]
  },
  {
   "cell_type": "code",
   "execution_count": null,
   "metadata": {},
   "outputs": [],
   "source": [
    "tuner.get_best_models()[0].save(\"bayesian_best.h5\")"
   ]
  }
 ],
 "metadata": {
  "kernelspec": {
   "display_name": "Python 3",
   "language": "python",
   "name": "python3"
  },
  "language_info": {
   "codemirror_mode": {
    "name": "ipython",
    "version": 3
   },
   "file_extension": ".py",
   "mimetype": "text/x-python",
   "name": "python",
   "nbconvert_exporter": "python",
   "pygments_lexer": "ipython3",
   "version": "3.8.8"
  }
 },
 "nbformat": 4,
 "nbformat_minor": 2
}
