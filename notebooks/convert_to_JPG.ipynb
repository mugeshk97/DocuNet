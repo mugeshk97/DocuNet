{
 "cells": [
  {
   "cell_type": "code",
   "execution_count": 1,
   "id": "3ce7b97e",
   "metadata": {},
   "outputs": [],
   "source": [
    "# file to convert and process all images in a folder to JPG format and save them in a new folder with the same name as the original folder but with the extension .jpg instead of .tif\n",
    "import cv2\n",
    "import os"
   ]
  },
  {
   "cell_type": "code",
   "execution_count": 2,
   "id": "6c222375",
   "metadata": {},
   "outputs": [],
   "source": [
    "raw_directory = \"/home/mugesh/IB/DocuNet/data/raw_data/\"\n",
    "processed_directory = \"/home/mugesh/IB/DocuNet/data/processed_data/\"\n",
    "if not os.path.exists(processed_directory):\n",
    "    os.mkdir(processed_directory)"
   ]
  },
  {
   "cell_type": "code",
   "execution_count": 4,
   "id": "c3ffafa6",
   "metadata": {},
   "outputs": [
    {
     "name": "stdout",
     "output_type": "stream",
     "text": [
      "Class black_border processed\n",
      "Class good processed\n",
      "Class gridline processed\n",
      "Class shaded processed\n"
     ]
    }
   ],
   "source": [
    "classes = os.listdir(raw_directory) # list of classes\n",
    "for i in range(len(classes)): # for each class\n",
    "    sub_dir = os.path.join(raw_directory, classes[i]) # path to class\n",
    "    if not os.path.exists(processed_directory+classes[i]): # if class directory doesn't exist\n",
    "        os.mkdir(processed_directory+classes[i]) # create class directory\n",
    "        save_dir = processed_directory+classes[i] # path to class directory of processed data\n",
    "    else:\n",
    "        save_dir = processed_directory+classes[i] # path to class directory of processed data\n",
    "        \n",
    "    filename = os.listdir(sub_dir) # list of files in class directory\n",
    "    for file_ in filename: # for each file in class directory\n",
    "        file_path = os.path.join(sub_dir, file_) # path to file\n",
    "        img = cv2.imread(file_path) # read image\n",
    "        img = cv2.resize(img , (640,640)) # resize image\n",
    "        img = cv2.cvtColor(img, cv2.COLOR_BGR2GRAY) # convert image to grayscale\n",
    "        _, img = cv2.threshold(img, 220, 255, cv2.THRESH_BINARY_INV+cv2.THRESH_OTSU) # threshold image\n",
    "        cv2.imwrite(save_dir+\"/\"+file_.split('.')[0]+'.jpg', img) # save image\n",
    "                \n",
    "    print(\"Class \"+classes[i]+\" processed\")"
   ]
  },
  {
   "cell_type": "code",
   "execution_count": null,
   "id": "ab94a702",
   "metadata": {},
   "outputs": [],
   "source": []
  }
 ],
 "metadata": {
  "interpreter": {
   "hash": "497527df925e3e58bbbb33060083048cb69f2f4e35ce25c5100d412e1b31a1bf"
  },
  "kernelspec": {
   "display_name": "Python 3",
   "language": "python",
   "name": "python3"
  },
  "language_info": {
   "codemirror_mode": {
    "name": "ipython",
    "version": 3
   },
   "file_extension": ".py",
   "mimetype": "text/x-python",
   "name": "python",
   "nbconvert_exporter": "python",
   "pygments_lexer": "ipython3",
   "version": "3.8.8"
  }
 },
 "nbformat": 4,
 "nbformat_minor": 5
}
